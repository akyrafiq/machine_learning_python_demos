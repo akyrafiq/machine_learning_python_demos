{
 "cells": [
  {
   "cell_type": "markdown",
   "id": "86139c53",
   "metadata": {},
   "source": [
    "\n",
    "# Advanced Financial Models with Neural Networks\n",
    "\n"
   ]
  },
  {
   "cell_type": "markdown",
   "id": "f8d77e51",
   "metadata": {},
   "source": [
    "\n",
    "## Section 1: Introduction to Neural Networks with Keras\n",
    "\n",
    "In this section, we will cover the basics of neural networks and how to create them using Keras.\n",
    "\n",
    "\n",
    "\n",
    "### Creating a Simple Neural Network Model using Keras\n",
    "\n",
    "First, let's install and import the necessary packages.\n",
    "```\n",
    "!pip install tensorflow keras numpy\n",
    "import numpy as np\n",
    "from tensorflow import keras\n",
    "from tensorflow.keras import layers\n",
    "```\n",
    "\n",
    "Now, we can build a simple neural network. as we have done in the past\n",
    "```\n",
    "model = keras.Sequential([\n",
    "    layers.Dense(64, activation='relu', input_shape=(784,)),\n",
    "    layers.Dense(64, activation='relu'),\n",
    "    layers.Dense(10, activation='softmax')\n",
    "])\n",
    "```\n",
    "\n",
    "### Exercise\n",
    "\n",
    "Try modifying the number of layers and the activation functions to see how they affect the model's performance.\n"
   ]
  },
  {
   "cell_type": "code",
   "execution_count": null,
   "id": "0370d6ad",
   "metadata": {},
   "outputs": [],
   "source": [
    "from tensorflow.keras.models import Sequential\n",
    "from tensorflow.keras.layers import Dense\n",
    "from tensorflow.keras.optimizers import Adam\n",
    "\n",
    "# Number of features in our data\n",
    "input_dim = 10  # This should be modified based on the actual data\n",
    "\n",
    "# Create the model\n",
    "model = Sequential([\n",
    "    Dense(64, input_dim=input_dim, activation='relu'),\n",
    "    Dense(32, activation='relu'),\n",
    "    Dense(1, activation='linear')\n",
    "])\n",
    "\n",
    "# Compile the model\n",
    "model.compile(optimizer=Adam(learning_rate=0.001), loss='mse')\n",
    "\n",
    "# Model summary\n",
    "model.summary()\n",
    "\n",
    "# Assuming X_train and y_train are your features and labels for training\n",
    "# model.fit(X_train, y_train, epochs=50, batch_size=10)"
   ]
  },
  {
   "cell_type": "markdown",
   "id": "2cd2d9a8",
   "metadata": {},
   "source": [
    "\n",
    "## Section 2: Applying Neural Networks to Financial Options\n",
    "\n",
    "In this section, we will apply neural networks to the problem of pricing American and exotic options.\n",
    "\n",
    "### Introduction to American and Exotic Options\n",
    "\n",
    "American options are financial derivatives that can be exercised at any time up to the expiration date. Exotic options are more complex than the more common types of options.\n",
    "\n",
    "### Implementing Neural Networks for Option Pricing\n",
    "\n",
    "We won't provide real financial data here, but ycan create synthetic data\n",
    "\n",
    "\n",
    "\n"
   ]
  },
  {
   "cell_type": "code",
   "execution_count": null,
   "id": "5e3147f1",
   "metadata": {},
   "outputs": [],
   "source": [
    "import numpy as np\n",
    "import pandas as pd\n",
    "\n",
    "# Function to generate synthetic stock prices\n",
    "def generate_stock_prices(days, initial_price=100, volatility=0.02):\n",
    "    ''' Generate synthetic stock prices '''\n",
    "    prices = [initial_price]\n",
    "    for _ in range(1, days):\n",
    "        change_percent = np.random.normal(0, volatility)\n",
    "        prices.append(prices[-1] * (1 + change_percent))\n",
    "    return np.array(prices)\n",
    "\n",
    "# Generate synthetic stock prices for 252 days (1 trading year)\n",
    "synthetic_stock_prices = generate_stock_prices(252)\n",
    "\n",
    "# Display the first few rows\n",
    "pd.DataFrame(synthetic_stock_prices, columns=['Stock Price']).head()"
   ]
  },
  {
   "cell_type": "markdown",
   "id": "e46f92e6",
   "metadata": {},
   "source": [
    "### Exercise\n",
    "\n",
    "Implement a neural network to price American and exotic options. Use historical data for training and test your model's accuracy."
   ]
  },
  {
   "cell_type": "code",
   "execution_count": null,
   "id": "62cf3b5e",
   "metadata": {},
   "outputs": [],
   "source": [
    "# Assuming synthetic_stock_prices is our feature set for option pricing\n",
    "X_train = synthetic_stock_prices[:-50]  # Features for training\n",
    "y_train = np.roll(synthetic_stock_prices, -50)[:-50]  # Labels for training: future prices\n",
    "\n",
    "# Build and compile the Keras model (similar to the one in Section 1)\n",
    "model = Sequential([\n",
    "    Dense(64, input_dim=1, activation='relu'),  # Input dimension = 1 for single feature\n",
    "    Dense(32, activation='relu'),\n",
    "    Dense(1, activation='linear')\n",
    "])\n",
    "model.compile(optimizer=Adam(learning_rate=0.001), loss='mse')\n",
    "\n",
    "# Fit the model\n",
    "model.fit(X_train.reshape(-1, 1), y_train, epochs=50, batch_size=10)"
   ]
  },
  {
   "cell_type": "markdown",
   "id": "eecfab44",
   "metadata": {},
   "source": [
    "\n",
    "## Section 3: Introduction to Bernoulli Restricted Boltzmann Machines (RBM)\n",
    "\n",
    "The Bernoulli Restricted Boltzmann Machine is a variant of RBM that can learn a probability distribution over its set of inputs.\n",
    "\n",
    "### Overview of the BernoulliRBM module from scikit-learn\n",
    "```\n",
    "!pip install scikit-learn\n",
    "from sklearn.neural_network import BernoulliRBM\n",
    "```\n",
    "\n",
    "### Exercise\n",
    "\n",
    "Set up and train a BernoulliRBM model with sample data.\n"
   ]
  },
  {
   "cell_type": "code",
   "execution_count": null,
   "id": "754afbfa",
   "metadata": {},
   "outputs": [],
   "source": [
    "from sklearn.linear_model import LogisticRegression\n",
    "\n",
    "# Combine BernoulliRBM with Logistic Regression in a Pipeline\n",
    "rbm_logistic = Pipeline(steps=[('rbm', BernoulliRBM()), ('logistic', LogisticRegression(max_iter=10000))])\n",
    "\n",
    "# Training data preparation: X_train should be binary or in [0, 1] range\n",
    "# Here we are assuming X_train is ready; in real case, you should preprocess it accordingly\n",
    "rbm_logistic.fit(X_train, y_train)  # Assuming y_train are labels for classification"
   ]
  },
  {
   "cell_type": "markdown",
   "id": "f030ca07",
   "metadata": {},
   "source": [
    "\n",
    "## Section 4: Applying Bernoulli RBM to Financial Models\n",
    "\n",
    "We will now see how Bernoulli RBM can be applied to financial models, particularly for pricing options.\n",
    "\n",
    "### Exercise\n",
    "\n",
    "Use BernoulliRBM to estimate the prices of American and exotic options. Compare the results with the neural network model.\n"
   ]
  },
  {
   "cell_type": "code",
   "execution_count": null,
   "id": "643bf4e6",
   "metadata": {},
   "outputs": [],
   "source": [
    "\n",
    "# Here we use the RBM to transform features\n",
    "X_transformed = rbm_pipeline.transform(X_train)\n",
    "\n",
    "# Now, we can use transformed features to price options, for example, with a regression model\n",
    "# We'll use a simple linear regression here for illustration\n",
    "from sklearn.linear_model import LinearRegression\n",
    "\n",
    "reg_model = LinearRegression()\n",
    "reg_model.fit(X_transformed, y_train)\n",
    "\n",
    "# Predicting prices using the regression model trained on RBM-transformed features\n",
    "predicted_prices = reg_model.predict(X_transformed)"
   ]
  }
 ],
 "metadata": {
  "language_info": {
   "name": "python"
  }
 },
 "nbformat": 4,
 "nbformat_minor": 5
}
